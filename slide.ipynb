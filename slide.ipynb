{
 "cells": [
  {
   "cell_type": "markdown",
   "metadata": {
    "slideshow": {
     "slide_type": "skip"
    }
   },
   "source": [
    "# 拍拍贷数据探索\n",
    "## by ooopiece\n",
    "\n",
    "## Preliminary Wrangling\n",
    "\n",
    "这个文档探索了拍拍贷包含利率和其他属性的328553个标的信息。"
   ]
  },
  {
   "cell_type": "markdown",
   "metadata": {
    "slideshow": {
     "slide_type": "slide"
    }
   },
   "source": [
    "# 什么影响网贷信用标的借款利率\n",
    "## by ooopiece"
   ]
  },
  {
   "cell_type": "markdown",
   "metadata": {
    "slideshow": {
     "slide_type": "slide"
    }
   },
   "source": [
    "## Dataset Overview\n",
    "\n",
    "数据为拍拍贷真实业务数据，包含328553个信用标信息。包含5个特性：借款金额，借款期限，初始评级，逾期率，借款利率。"
   ]
  },
  {
   "cell_type": "code",
   "execution_count": 1,
   "metadata": {
    "slideshow": {
     "slide_type": "skip"
    }
   },
   "outputs": [],
   "source": [
    "# import all packages and set plots to be embedded inline\n",
    "import numpy as np\n",
    "import pandas as pd\n",
    "import matplotlib.pyplot as plt\n",
    "import seaborn as sb\n",
    "%matplotlib inline"
   ]
  },
  {
   "cell_type": "code",
   "execution_count": 2,
   "metadata": {
    "slideshow": {
     "slide_type": "skip"
    }
   },
   "outputs": [],
   "source": [
    "import os\n",
    "from matplotlib.font_manager import _rebuild\n",
    "# font_path例子：/opt/conda/lib/python3.6/site-packages/matplotlib/mpl-data/fonts/ttf/SimHei.ttf\n",
    "font_path = os.path.join(plt.__dict__['rcParams']['datapath'],'fonts/ttf/SimHei.ttf')\n",
    "# 判断字体文件是否存在，不存在则下载\n",
    "if not os.path.exists(font_path):\n",
    "    !wget http://d.xiazaiziti.com/en_fonts/fonts/s/SimHei.ttf -O $font_path\n",
    "# 用来正常显示中文标签\n",
    "plt.rcParams['font.sans-serif']=['SimHei']\n",
    "# 用来正常显示负号\n",
    "plt.rcParams['axes.unicode_minus']=False\n",
    "# 加载配置\n",
    "_rebuild()"
   ]
  },
  {
   "cell_type": "code",
   "execution_count": 3,
   "metadata": {
    "slideshow": {
     "slide_type": "skip"
    }
   },
   "outputs": [],
   "source": [
    "df_lc = pd.read_csv('LC.csv')\n",
    "df_lc_clean = df_lc.copy()"
   ]
  },
  {
   "cell_type": "code",
   "execution_count": 4,
   "metadata": {
    "slideshow": {
     "slide_type": "skip"
    }
   },
   "outputs": [],
   "source": [
    "# 保留感兴趣的列\n",
    "df_lc_clean = df_lc_clean.loc[:,['ListingId','借款金额','借款期限','借款利率','初始评级','历史正常还款期数','历史逾期还款期数']]\n",
    "# 创建新列: 逾期率 = 正常还款次数 / (正常环框次数 + 逾期还款次数)\n",
    "df_lc_clean['逾期率'] = df_lc_clean['历史逾期还款期数'] / (df_lc['历史正常还款期数'] + df_lc['历史逾期还款期数'])\n",
    "df_lc_clean['逾期率'].fillna(0, inplace=True)\n",
    "df_lc_clean = df_lc_clean.drop(['历史正常还款期数','历史逾期还款期数'], axis=1)"
   ]
  },
  {
   "cell_type": "code",
   "execution_count": 5,
   "metadata": {
    "slideshow": {
     "slide_type": "skip"
    }
   },
   "outputs": [
    {
     "name": "stdout",
     "output_type": "stream",
     "text": [
      "<class 'pandas.core.frame.DataFrame'>\n",
      "RangeIndex: 328553 entries, 0 to 328552\n",
      "Data columns (total 6 columns):\n",
      "ListingId    328553 non-null int64\n",
      "借款金额         328553 non-null int64\n",
      "借款期限         328553 non-null int64\n",
      "借款利率         328553 non-null float64\n",
      "初始评级         328553 non-null object\n",
      "逾期率          328553 non-null float64\n",
      "dtypes: float64(2), int64(3), object(1)\n",
      "memory usage: 15.0+ MB\n"
     ]
    }
   ],
   "source": [
    "df_lc_clean.info()"
   ]
  },
  {
   "cell_type": "code",
   "execution_count": 6,
   "metadata": {
    "slideshow": {
     "slide_type": "skip"
    }
   },
   "outputs": [
    {
     "name": "stdout",
     "output_type": "stream",
     "text": [
      "(328553, 6)\n",
      "ListingId      int64\n",
      "借款金额           int64\n",
      "借款期限           int64\n",
      "借款利率         float64\n",
      "初始评级          object\n",
      "逾期率          float64\n",
      "dtype: object\n",
      "   ListingId   借款金额  借款期限  借款利率 初始评级       逾期率\n",
      "0     126541  18000    12  18.0    C  0.219178\n",
      "1     133291   9453    12  20.0    D  0.071429\n",
      "2     142421  27000    24  20.0    E  0.107143\n",
      "3     149711  25000    12  18.0    C  0.023810\n",
      "4     152141  20000     6  16.0    C  0.106061\n",
      "5     162641  20000    12  14.0    A  0.000000\n",
      "6     171191   3940     6  18.0    E  0.096386\n",
      "7     175451  20000    12  18.0    B  0.000000\n",
      "8     182261  25000    12  16.0    B  0.046512\n",
      "9     193831  10475     6  18.0    C  0.075472\n"
     ]
    }
   ],
   "source": [
    "print(df_lc_clean.shape)\n",
    "print(df_lc_clean.dtypes)\n",
    "print(df_lc_clean.head(10))"
   ]
  },
  {
   "cell_type": "code",
   "execution_count": 7,
   "metadata": {
    "slideshow": {
     "slide_type": "skip"
    }
   },
   "outputs": [],
   "source": [
    "# 将初始评级变成category类型，并指定顺序\n",
    "ordered_var = pd.api.types.CategoricalDtype(ordered = True, categories = ['A','B','C','D','E','F'])\n",
    "df_lc_clean['初始评级'] = df_lc_clean['初始评级'].astype(ordered_var)\n",
    "# 将借款期限按(0-6],(6-12],(12-24]分成category类型\n",
    "df_lc_clean['借款期限'] = pd.cut(df_lc_clean['借款期限'], [0,6,12,18,24])"
   ]
  },
  {
   "cell_type": "code",
   "execution_count": 8,
   "metadata": {
    "slideshow": {
     "slide_type": "skip"
    }
   },
   "outputs": [
    {
     "name": "stdout",
     "output_type": "stream",
     "text": [
      "<class 'pandas.core.frame.DataFrame'>\n",
      "RangeIndex: 328553 entries, 0 to 328552\n",
      "Data columns (total 6 columns):\n",
      "ListingId    328553 non-null int64\n",
      "借款金额         328553 non-null int64\n",
      "借款期限         328553 non-null category\n",
      "借款利率         328553 non-null float64\n",
      "初始评级         328553 non-null category\n",
      "逾期率          328553 non-null float64\n",
      "dtypes: category(2), float64(2), int64(2)\n",
      "memory usage: 10.7 MB\n"
     ]
    }
   ],
   "source": [
    "df_lc_clean.info()"
   ]
  },
  {
   "cell_type": "markdown",
   "metadata": {
    "slideshow": {
     "slide_type": "skip"
    }
   },
   "source": [
    "### What is the structure of your dataset?\n",
    "\n",
    "- 有328553个标，5个特性（不包括ListingId，包括借款金额，借款期限，借款利率，初始评级，逾期率）\n",
    "- 借款金额，借款利率，逾期率是数值类型的\n",
    "- 初始评级是分类，按以下排序(好->坏)：A，B，C，D，E，F\n",
    "- 借款期限是分类，按一下排序：(0-6]，(6-12]，(12-18]，(18-24]\n",
    "\n",
    "### What is/are the main feature(s) of interest in your dataset?\n",
    "\n",
    "主要想找出什么特性可以预测借款利率\n",
    "\n",
    "### What features in the dataset do you think will help support your investigation into your feature(s) of interest?\n",
    "\n",
    "我觉的借款期限，初始评级可能会影响利率"
   ]
  },
  {
   "cell_type": "markdown",
   "metadata": {
    "slideshow": {
     "slide_type": "skip"
    }
   },
   "source": [
    "## Univariate Exploration\n",
    "\n",
    "从借款利率开始"
   ]
  },
  {
   "cell_type": "markdown",
   "metadata": {
    "slideshow": {
     "slide_type": "skip"
    }
   },
   "source": [
    "### 借款利率"
   ]
  },
  {
   "cell_type": "markdown",
   "metadata": {
    "slideshow": {
     "slide_type": "slide"
    }
   },
   "source": [
    "## 借款利率的分布\n",
    "\n",
    "数据集中的借款利率在6.5到24，呈单峰分布"
   ]
  },
  {
   "cell_type": "code",
   "execution_count": 9,
   "metadata": {
    "slideshow": {
     "slide_type": "subslide"
    }
   },
   "outputs": [
    {
     "data": {
      "image/png": "[encoded data removed]",
      "text/plain": [
       "<Figure size 576x432 with 1 Axes>"
      ]
     },
     "metadata": {
      "needs_background": "light"
     },
     "output_type": "display_data"
    }
   ],
   "source": [
    "# 借款利率的分布\n",
    "plt.figure(figsize=[8, 6])\n",
    "bin_edges = np.arange(df_lc_clean['借款利率'].min(), df_lc_clean['借款利率'].max()+2, 2)\n",
    "plt.hist(df_lc_clean['借款利率'], bins=bin_edges);\n",
    "plt.yticks(np.array([20000,40000,60000,80000,100000,120000,140000]), ['20k','40k','60k','80k','100k','120k','140k'])\n",
    "plt.xlabel('借款利率',size=16)\n",
    "plt.ylabel('频率',size=16)\n",
    "plt.title('借款利率的分布',size=20)\n",
    "plt.tick_params(labelsize=13)"
   ]
  },
  {
   "cell_type": "markdown",
   "metadata": {
    "slideshow": {
     "slide_type": "skip"
    }
   },
   "source": [
    "> 借款利率呈单峰分布，大多在20-22.5之间。"
   ]
  },
  {
   "cell_type": "markdown",
   "metadata": {
    "slideshow": {
     "slide_type": "skip"
    }
   },
   "source": [
    "### 借款金额"
   ]
  },
  {
   "cell_type": "code",
   "execution_count": 10,
   "metadata": {
    "slideshow": {
     "slide_type": "skip"
    }
   },
   "outputs": [
    {
     "data": {
      "image/png": "[encoded data removed]",
      "text/plain": [
       "<Figure size 432x288 with 1 Axes>"
      ]
     },
     "metadata": {
      "needs_background": "light"
     },
     "output_type": "display_data"
    }
   ],
   "source": [
    "bin_edges = np.arange(0, df_lc_clean['借款金额'].max()+10000, 10000)\n",
    "plt.hist(df_lc_clean['借款金额'], bins=bin_edges);"
   ]
  },
  {
   "cell_type": "code",
   "execution_count": 11,
   "metadata": {
    "slideshow": {
     "slide_type": "skip"
    }
   },
   "outputs": [
    {
     "name": "stdout",
     "output_type": "stream",
     "text": [
      "(array([     0.,      0.,      0.,      0.,      0.,      0.,    849.,\n",
      "         1495.,  12778.,  34428.,  62775., 130293.,  74464.,   9032.,\n",
      "         1523.,    388.,    205.,    189.,    134.]), array([0.1, 0.4, 0.7, 1. , 1.3, 1.6, 1.9, 2.2, 2.5, 2.8, 3.1, 3.4, 3.7,\n",
      "       4. , 4.3, 4.6, 4.9, 5.2, 5.5, 5.8]), <a list of 19 Patch objects>)\n"
     ]
    },
    {
     "data": {
      "image/png": "[encoded data removed]",
      "text/plain": [
       "<Figure size 432x288 with 1 Axes>"
      ]
     },
     "metadata": {
      "needs_background": "light"
     },
     "output_type": "display_data"
    }
   ],
   "source": [
    "# log变换(10为底)\n",
    "def trans(x, inverse = False):\n",
    "    if not inverse: return np.log10(x)\n",
    "    else: return 10 ** x\n",
    "# 创建log变换后的数据\n",
    "df_lc_clean['log_借款金额'] = df_lc_clean['借款金额'].apply(trans)\n",
    "# 绘制log处理后数据的直方图\n",
    "bin_edges = np.arange(0.1, df_lc_clean['log_借款金额'].max()+0.3, 0.3)\n",
    "ax = plt.hist(df_lc_clean['借款金额'].apply(trans), bins = bin_edges)\n",
    "print(ax)\n",
    "tick_locs = pd.Series([10, 100, 1000, 10000, 100000, 1000000]).apply(trans)\n",
    "plt.xticks(tick_locs, [10,100,'1k','10k','100k','1000k']);"
   ]
  },
  {
   "cell_type": "markdown",
   "metadata": {
    "slideshow": {
     "slide_type": "skip"
    }
   },
   "source": [
    "> 第一张图借款金额有长尾。当使用log缩放后，分布呈现单峰分布，大多数金额在1200-10000之间。"
   ]
  },
  {
   "cell_type": "markdown",
   "metadata": {
    "slideshow": {
     "slide_type": "skip"
    }
   },
   "source": [
    "### 逾期率"
   ]
  },
  {
   "cell_type": "code",
   "execution_count": 12,
   "metadata": {
    "slideshow": {
     "slide_type": "skip"
    }
   },
   "outputs": [
    {
     "data": {
      "text/plain": [
       "(array([2.97248e+05, 1.36230e+04, 8.22600e+03, 3.82500e+03, 1.69600e+03,\n",
       "        2.36000e+03, 7.24000e+02, 3.15000e+02, 2.27000e+02, 3.09000e+02]),\n",
       " array([0. , 0.1, 0.2, 0.3, 0.4, 0.5, 0.6, 0.7, 0.8, 0.9, 1. ]),\n",
       " <a list of 10 Patch objects>)"
      ]
     },
     "execution_count": 12,
     "metadata": {},
     "output_type": "execute_result"
    },
    {
     "data": {
      "image/png": "[encoded data removed]",
      "text/plain": [
       "<Figure size 432x288 with 1 Axes>"
      ]
     },
     "metadata": {
      "needs_background": "light"
     },
     "output_type": "display_data"
    }
   ],
   "source": [
    "plt.hist(df_lc_clean['逾期率'])"
   ]
  },
  {
   "cell_type": "markdown",
   "metadata": {
    "slideshow": {
     "slide_type": "skip"
    }
   },
   "source": [
    "> 逾期率呈右偏分布，逾期率大多在0-0.1之间。"
   ]
  },
  {
   "cell_type": "markdown",
   "metadata": {
    "slideshow": {
     "slide_type": "skip"
    }
   },
   "source": [
    "### 借款期限"
   ]
  },
  {
   "cell_type": "code",
   "execution_count": 13,
   "metadata": {
    "slideshow": {
     "slide_type": "skip"
    }
   },
   "outputs": [
    {
     "data": {
      "image/png": "[encoded data removed]",
      "text/plain": [
       "<Figure size 432x288 with 1 Axes>"
      ]
     },
     "metadata": {
      "needs_background": "light"
     },
     "output_type": "display_data"
    }
   ],
   "source": [
    "base_color = sb.color_palette()[0]\n",
    "sb.countplot(data = df_lc_clean, y = '借款期限', color = base_color);"
   ]
  },
  {
   "cell_type": "markdown",
   "metadata": {
    "slideshow": {
     "slide_type": "skip"
    }
   },
   "source": [
    "> 借款期限大多在6-12个月。"
   ]
  },
  {
   "cell_type": "markdown",
   "metadata": {
    "slideshow": {
     "slide_type": "skip"
    }
   },
   "source": [
    "### 初始评级"
   ]
  },
  {
   "cell_type": "code",
   "execution_count": 14,
   "metadata": {
    "slideshow": {
     "slide_type": "skip"
    }
   },
   "outputs": [
    {
     "data": {
      "image/png": "[encoded data removed]",
      "text/plain": [
       "<Figure size 432x288 with 1 Axes>"
      ]
     },
     "metadata": {
      "needs_background": "light"
     },
     "output_type": "display_data"
    }
   ],
   "source": [
    "sb.countplot(data = df_lc_clean, y = '初始评级', color = base_color);"
   ]
  },
  {
   "cell_type": "markdown",
   "metadata": {
    "slideshow": {
     "slide_type": "skip"
    }
   },
   "source": [
    "> 初始评级大多是C或D。"
   ]
  },
  {
   "cell_type": "markdown",
   "metadata": {
    "slideshow": {
     "slide_type": "skip"
    }
   },
   "source": [
    "### Discuss the distribution(s) of your variable(s) of interest. Were there any unusual points? Did you need to perform any transformations?\n",
    "\n",
    "- 借款利率呈单峰分布，大多在20-22.5之间。\n",
    "- 借款金额有长尾。当使用log缩放后，分布呈现单峰分布，大多数金额在1200-10000之间。\n",
    "- 从可视化来看所有变量没有异常值。\n",
    "\n",
    "### Of the features you investigated, were there any unusual distributions? Did you perform any operations on the data to tidy, adjust, or change the form of the data? If so, why did you do this?\n",
    "\n",
    "- 从可视化看各个变量没有异常，没有对数据做更改。"
   ]
  },
  {
   "cell_type": "markdown",
   "metadata": {
    "slideshow": {
     "slide_type": "skip"
    }
   },
   "source": [
    "## Bivariate Exploration\n",
    "\n",
    "开始探索变量之间的相关性"
   ]
  },
  {
   "cell_type": "markdown",
   "metadata": {
    "slideshow": {
     "slide_type": "skip"
    }
   },
   "source": [
    "### 探索借款金额，借款利率，逾期率"
   ]
  },
  {
   "cell_type": "code",
   "execution_count": 15,
   "metadata": {
    "slideshow": {
     "slide_type": "skip"
    }
   },
   "outputs": [
    {
     "data": {
      "image/png": "[encoded data removed]",
      "text/plain": [
       "<Figure size 576x360 with 2 Axes>"
      ]
     },
     "metadata": {
      "needs_background": "light"
     },
     "output_type": "display_data"
    }
   ],
   "source": [
    "# 给这些变量绘制相关系数矩阵\n",
    "numeric_vars = ['借款金额', '借款利率', '逾期率']\n",
    "plt.figure(figsize = [8, 5])\n",
    "# 使用发散色板 cmap = 'vlag_r'\n",
    "sb.heatmap(df_lc_clean[numeric_vars].corr(), annot = True, fmt = '.3f', cmap = 'vlag_r', center = 0)\n",
    "plt.show()"
   ]
  },
  {
   "cell_type": "markdown",
   "metadata": {
    "slideshow": {
     "slide_type": "skip"
    }
   },
   "source": [
    "> 借款金额，借款利率，逾期率三个变量没有明显的相关性。"
   ]
  },
  {
   "cell_type": "markdown",
   "metadata": {
    "slideshow": {
     "slide_type": "skip"
    }
   },
   "source": [
    "### 探索借款利率和初始评级"
   ]
  },
  {
   "cell_type": "markdown",
   "metadata": {
    "slideshow": {
     "slide_type": "slide"
    }
   },
   "source": [
    "## 初始评级 vs 借款利率\n",
    "\n",
    "绘制初始评级和借款利率呈现出负相关"
   ]
  },
  {
   "cell_type": "code",
   "execution_count": 16,
   "metadata": {
    "slideshow": {
     "slide_type": "subslide"
    }
   },
   "outputs": [
    {
     "data": {
      "image/png": "[encoded data removed]",
      "text/plain": [
       "<Figure size 576x432 with 1 Axes>"
      ]
     },
     "metadata": {
      "needs_background": "light"
     },
     "output_type": "display_data"
    }
   ],
   "source": [
    "# 绘制分类和数值变量\n",
    "plt.figure(figsize=[8, 6])\n",
    "base_color = sb.color_palette()[0]\n",
    "sb.violinplot(data = df_lc_clean, x = '初始评级', y = '借款利率', color = base_color, inner=None);\n",
    "plt.title('初始评级 vs 借款利率', fontsize=20);\n",
    "plt.xlabel('借款利率',fontsize=16);\n",
    "plt.ylabel('初始评级',fontsize=16);\n",
    "plt.tick_params(labelsize=13)"
   ]
  },
  {
   "cell_type": "markdown",
   "metadata": {
    "slideshow": {
     "slide_type": "skip"
    }
   },
   "source": [
    "> 初始评级和借款利率有负相关性，初始评级低的借款利率集中位置比初始评级高的借款利率集中位置大。需要注意的是初始评级高的记录里边也有借款利率高的。"
   ]
  },
  {
   "cell_type": "markdown",
   "metadata": {
    "slideshow": {
     "slide_type": "skip"
    }
   },
   "source": [
    "### 探索借款利率和借款期限"
   ]
  },
  {
   "cell_type": "code",
   "execution_count": 17,
   "metadata": {
    "slideshow": {
     "slide_type": "skip"
    }
   },
   "outputs": [
    {
     "data": {
      "image/png": "[encoded data removed]",
      "text/plain": [
       "<Figure size 432x288 with 1 Axes>"
      ]
     },
     "metadata": {
      "needs_background": "light"
     },
     "output_type": "display_data"
    }
   ],
   "source": [
    "# 绘制log数据\n",
    "# sb.violinplot(data = df_lc_clean, x = '借款期限', y = '借款利率', color = base_color);\n",
    "sb.boxplot(data = df_lc_clean, x = '借款期限', y = '借款利率', color = base_color);"
   ]
  },
  {
   "cell_type": "markdown",
   "metadata": {
    "slideshow": {
     "slide_type": "skip"
    }
   },
   "source": [
    "> 借款利率和借款期限没有明显规律"
   ]
  },
  {
   "cell_type": "markdown",
   "metadata": {
    "slideshow": {
     "slide_type": "skip"
    }
   },
   "source": [
    "### 探索逾期率和初始评级"
   ]
  },
  {
   "cell_type": "code",
   "execution_count": 18,
   "metadata": {
    "slideshow": {
     "slide_type": "skip"
    }
   },
   "outputs": [
    {
     "data": {
      "image/png": "[encoded data removed]",
      "text/plain": [
       "<Figure size 1008x288 with 2 Axes>"
      ]
     },
     "metadata": {
      "needs_background": "light"
     },
     "output_type": "display_data"
    }
   ],
   "source": [
    "# 绘制分类和数值变量\n",
    "fig, axes = plt.subplots(nrows=1, ncols=2, figsize=(14, 4))\n",
    "base_color = sb.color_palette()[0]\n",
    "plt.sca(axes[0])\n",
    "sb.boxplot(data = df_lc_clean, x = '逾期率', y = '初始评级', color = base_color)\n",
    "plt.sca(axes[1])\n",
    "sb.violinplot(data = df_lc_clean, x = '逾期率', y = '初始评级', color = base_color, inner = None)\n",
    "plt.xlim(-0.1,0.1);"
   ]
  },
  {
   "cell_type": "markdown",
   "metadata": {
    "slideshow": {
     "slide_type": "skip"
    }
   },
   "source": [
    "> 和初始评级低的比，初始评级高的逾期率分布在0处更集中。需要注意的是初始评级高的记录中也有高逾期率的。"
   ]
  },
  {
   "cell_type": "markdown",
   "metadata": {
    "slideshow": {
     "slide_type": "skip"
    }
   },
   "source": [
    "### 探索借款金额和初始评级"
   ]
  },
  {
   "cell_type": "code",
   "execution_count": 19,
   "metadata": {
    "slideshow": {
     "slide_type": "skip"
    }
   },
   "outputs": [
    {
     "data": {
      "image/png": "[encoded data removed]",
      "text/plain": [
       "<Figure size 432x288 with 1 Axes>"
      ]
     },
     "metadata": {
      "needs_background": "light"
     },
     "output_type": "display_data"
    }
   ],
   "source": [
    "# 绘制分类和数值变量\n",
    "# 绘制借款金额的log变换数据\n",
    "sb.violinplot(data = df_lc_clean, x = '初始评级', y = 'log_借款金额', color = base_color)\n",
    "plt.yticks(trans(np.array([500, 1e3, 2e3, 5e3, 2e4, 5e4, 1e5])), [500, '1k', '2k', '5k', '20k','50k', '100k']);"
   ]
  },
  {
   "cell_type": "markdown",
   "metadata": {
    "slideshow": {
     "slide_type": "skip"
    }
   },
   "source": [
    "> 借款金额和初始评级没有明显规律。"
   ]
  },
  {
   "cell_type": "markdown",
   "metadata": {
    "slideshow": {
     "slide_type": "skip"
    }
   },
   "source": [
    "### 探索借款金额和借款期限"
   ]
  },
  {
   "cell_type": "code",
   "execution_count": 20,
   "metadata": {
    "slideshow": {
     "slide_type": "skip"
    }
   },
   "outputs": [
    {
     "data": {
      "image/png": "[encoded data removed]",
      "text/plain": [
       "<Figure size 432x288 with 1 Axes>"
      ]
     },
     "metadata": {
      "needs_background": "light"
     },
     "output_type": "display_data"
    }
   ],
   "source": [
    "# 绘制借款金额的log变换数据\n",
    "# sb.violinplot(data = df_lc_clean, x = '借款期限', y = 'log_借款金额', color = base_color)\n",
    "sb.boxplot(data = df_lc_clean, x = '借款期限', y = 'log_借款金额', color = base_color);\n",
    "plt.yticks(trans(np.array([500, 1e3, 2e3, 5e3, 2e4, 5e4, 1e5])), [500, '1k', '2k', '5k', '20k','50k', '100k']);"
   ]
  },
  {
   "cell_type": "markdown",
   "metadata": {
    "slideshow": {
     "slide_type": "skip"
    }
   },
   "source": [
    "> 借款期限和借款金额有正相关性，好像借款期限高的借款金额也高。"
   ]
  },
  {
   "cell_type": "markdown",
   "metadata": {
    "slideshow": {
     "slide_type": "skip"
    }
   },
   "source": [
    "### 探索逾期率和借款期限"
   ]
  },
  {
   "cell_type": "code",
   "execution_count": 21,
   "metadata": {
    "slideshow": {
     "slide_type": "skip"
    }
   },
   "outputs": [
    {
     "data": {
      "image/png": "[encoded data removed]",
      "text/plain": [
       "<Figure size 432x288 with 1 Axes>"
      ]
     },
     "metadata": {
      "needs_background": "light"
     },
     "output_type": "display_data"
    }
   ],
   "source": [
    "# sb.violinplot(data = df_lc_clean, x = '借款期限', y = '逾期率', color = base_color);\n",
    "sb.boxplot(data = df_lc_clean, x = '借款期限', y = '逾期率', color = base_color);"
   ]
  },
  {
   "cell_type": "markdown",
   "metadata": {
    "slideshow": {
     "slide_type": "skip"
    }
   },
   "source": [
    "> 逾期率和借款期限没有明显规律。"
   ]
  },
  {
   "cell_type": "markdown",
   "metadata": {
    "slideshow": {
     "slide_type": "skip"
    }
   },
   "source": [
    "### Talk about some of the relationships you observed in this part of the investigation. How did the feature(s) of interest vary with other features in the dataset?\n",
    "\n",
    "初始评级影响借款利率，初始评级好的借款利率集中位置比初始评级差的借款利率集中位置小。\n",
    "\n",
    "### Did you observe any interesting relationships between the other features (not the main feature(s) of interest)?\n",
    "\n",
    "逾期率影响初始评级，初始评级好的在0附近的概率比初始评级差的大。"
   ]
  },
  {
   "cell_type": "markdown",
   "metadata": {
    "slideshow": {
     "slide_type": "skip"
    }
   },
   "source": [
    "## Multivariate Exploration\n",
    "\n",
    "探索除了初始评级，还有什么变量影响借款利率。"
   ]
  },
  {
   "cell_type": "markdown",
   "metadata": {
    "slideshow": {
     "slide_type": "skip"
    }
   },
   "source": [
    "### 探索逾期率，初始评级，借款利率的关系"
   ]
  },
  {
   "cell_type": "code",
   "execution_count": 22,
   "metadata": {
    "slideshow": {
     "slide_type": "skip"
    }
   },
   "outputs": [
    {
     "data": {
      "image/png": "[encoded data removed]",
      "text/plain": [
       "<Figure size 864x216 with 4 Axes>"
      ]
     },
     "metadata": {
      "needs_background": "light"
     },
     "output_type": "display_data"
    }
   ],
   "source": [
    "# 将逾期率分箱\n",
    "bins = [0, 0.25, 0.5, 0.75, 1]\n",
    "df_lc_clean['cut_逾期率'] = pd.cut(df_lc_clean['逾期率'], bins, include_lowest=True)\n",
    "# 绘制每个分箱的评级和借款利率\n",
    "g = sb.FacetGrid(data = df_lc_clean, col = 'cut_逾期率')\n",
    "g.map(sb.pointplot, '初始评级', '借款利率', linestyles = \"\", order=['A','B','C','D','E','F']);"
   ]
  },
  {
   "cell_type": "markdown",
   "metadata": {
    "slideshow": {
     "slide_type": "skip"
    }
   },
   "source": [
    "> 初始评级高和借款利率负相关，然而逾期率对借款利率没有直接影响。"
   ]
  },
  {
   "cell_type": "markdown",
   "metadata": {
    "slideshow": {
     "slide_type": "skip"
    }
   },
   "source": [
    "### 探索借款金额，初始评级，借款利率的关系"
   ]
  },
  {
   "cell_type": "markdown",
   "metadata": {
    "slideshow": {
     "slide_type": "slide"
    }
   },
   "source": [
    "## 不同金额的评级和借款利率\n",
    "\n",
    "- 更明显的初始评级和借款利率负相关\n",
    "- 借款金额与借款利率正相关"
   ]
  },
  {
   "cell_type": "code",
   "execution_count": 23,
   "metadata": {
    "slideshow": {
     "slide_type": "subslide"
    }
   },
   "outputs": [
    {
     "data": {
      "image/png": "[encoded data removed]",
      "text/plain": [
       "<Figure size 864x216 with 4 Axes>"
      ]
     },
     "metadata": {
      "needs_background": "light"
     },
     "output_type": "display_data"
    }
   ],
   "source": [
    "df_lc_clean = df_lc_clean.sample(200)\n",
    "bins = np.linspace(df_lc_clean['借款金额'].min(), df_lc_clean['借款金额'].max(), 5)\n",
    "df_lc_clean['cut_借款金额'] = pd.cut(df_lc_clean['借款金额'], bins, include_lowest=True)\n",
    "g = sb.FacetGrid(data = df_lc_clean, col = 'cut_借款金额', margin_titles = True)\n",
    "g.map(sb.pointplot, '初始评级', '借款利率', linestyles = \"\", order=['A','B','C','D','E','F']);"
   ]
  },
  {
   "cell_type": "markdown",
   "metadata": {
    "slideshow": {
     "slide_type": "skip"
    }
   },
   "source": [
    "> 初始评级高和借款利率有负相关。随着借款金额的上升，借款利率好像在降低"
   ]
  },
  {
   "cell_type": "markdown",
   "metadata": {
    "slideshow": {
     "slide_type": "skip"
    }
   },
   "source": [
    "### 探索借款期限，初始评级，逾期率的关系"
   ]
  },
  {
   "cell_type": "code",
   "execution_count": 24,
   "metadata": {
    "slideshow": {
     "slide_type": "skip"
    }
   },
   "outputs": [
    {
     "data": {
      "image/png": "[encoded data removed]",
      "text/plain": [
       "<Figure size 432x288 with 1 Axes>"
      ]
     },
     "metadata": {
      "needs_background": "light"
     },
     "output_type": "display_data"
    }
   ],
   "source": [
    "# 绘制探索借款期限，初始评级，逾期率的关系\n",
    "plt.figure(figsize = [6, 4])\n",
    "sb.pointplot(data = df_lc_clean, x = '借款期限', y = '逾期率', hue = '初始评级',\n",
    "             dodge = 0.3, linestyles = \"\",palette = 'Blues');"
   ]
  },
  {
   "cell_type": "markdown",
   "metadata": {
    "slideshow": {
     "slide_type": "skip"
    }
   },
   "source": [
    "> 初始评级在借款期限是6-12月的记录中，呈现出初始评级越差逾期率越大的趋势。"
   ]
  },
  {
   "cell_type": "markdown",
   "metadata": {
    "slideshow": {
     "slide_type": "skip"
    }
   },
   "source": [
    "### Talk about some of the relationships you observed in this part of the investigation. Were there features that strengthened each other in terms of looking at your feature(s) of interest?\n",
    "\n",
    "- 初始评级越高借款利率越低在借款利率的平均值中趋势更加明显。\n",
    "- 借款金额也对借款利率有影响，好像借款金额约高借款利率越低。\n",
    "\n",
    "### Were there any interesting or surprising interactions between features?\n",
    "\n",
    "- 逾期率影响了初始评级，初始评级影响了借款利率，但是逾期率和借款利率没有明显关系。\n"
   ]
  },
  {
   "cell_type": "code",
   "execution_count": null,
   "metadata": {
    "slideshow": {
     "slide_type": "skip"
    }
   },
   "outputs": [],
   "source": []
  }
 ],
 "metadata": {
  "celltoolbar": "幻灯片",
  "kernelspec": {
   "display_name": "Python 3",
   "language": "python",
   "name": "python3"
  },
  "language_info": {
   "codemirror_mode": {
    "name": "ipython",
    "version": 3
   },
   "file_extension": ".py",
   "mimetype": "text/x-python",
   "name": "python",
   "nbconvert_exporter": "python",
   "pygments_lexer": "ipython3",
   "version": "3.6.8"
  }
 },
 "nbformat": 4,
 "nbformat_minor": 2
}
